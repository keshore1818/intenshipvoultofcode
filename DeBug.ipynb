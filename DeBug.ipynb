{
  "nbformat": 4,
  "nbformat_minor": 0,
  "metadata": {
    "colab": {
      "provenance": []
    },
    "kernelspec": {
      "name": "python3",
      "display_name": "Python 3"
    },
    "language_info": {
      "name": "python"
    }
  },
  "cells": [
    {
      "cell_type": "code",
      "execution_count": 46,
      "metadata": {
        "colab": {
          "base_uri": "https://localhost:8080/"
        },
        "id": "m1smDcSkD5EX",
        "outputId": "267d24a2-74e3-45ec-c958-2f93ba126998"
      },
      "outputs": [
        {
          "output_type": "stream",
          "name": "stdout",
          "text": [
            "Reversed string: !dlrow ,olleH\n"
          ]
        }
      ],
      "source": [
        "#Code1:\n",
        "\n",
        "def reverse_string(s):\n",
        "    reversed = \"\"\n",
        "    for i in range(len(s) - 1, -1, -1):\n",
        "        reversed += s[i]\n",
        "    return reversed\n",
        "\n",
        "def main():\n",
        "    input_string = \"Hello, world!\"\n",
        "    reversed_string = reverse_string(input_string)\n",
        "    print(f\"Reversed string: {reversed_string}\")\n",
        "\n",
        "if __name__ == \"__main__\":\n",
        "    main()\n"
      ]
    },
    {
      "cell_type": "code",
      "source": [
        "\n",
        "#Code2:\n",
        "\n",
        "\n",
        "def get_age():\n",
        "    age = input(\"Please enter your age: \")\n",
        "    if age.isnumeric() and age >= \"18\":\n",
        "        return int(age)\n",
        "    else:\n",
        "        return None\n",
        "\n",
        "def main():\n",
        "    age = get_age()\n",
        "    if age:\n",
        "        print(f\"You are {age} years old and eligible.\")\n",
        "    else:\n",
        "        print(\"Invalid input. You must be at least 18 years old.\")\n",
        "\n",
        "if __name__ == \"__main__\":\n",
        "    main()\n"
      ],
      "metadata": {
        "colab": {
          "base_uri": "https://localhost:8080/"
        },
        "id": "Gt0s7St-Euaw",
        "outputId": "734c1395-5bbe-4838-86ef-4b86f4910ab1"
      },
      "execution_count": 47,
      "outputs": [
        {
          "output_type": "stream",
          "name": "stdout",
          "text": [
            "Please enter your age: 21\n",
            "You are 21 years old and eligible.\n"
          ]
        }
      ]
    },
    {
      "cell_type": "code",
      "source": [
        "#Code3:\n",
        "\n",
        "\n",
        "def read_and_write_file(filename):\n",
        "    try:\n",
        "        with open(filename, 'r') as file:\n",
        "            content = file.read()\n",
        "        with open(filename, 'w') as file:\n",
        "            file.write(content.upper())\n",
        "        print(f\"File '{filename}' processed successfully.\")\n",
        "    except Exception as e:\n",
        "        print(f\"An error occurred: {str(e)}\")\n",
        "\n",
        "def main():\n",
        "    filename = \"sample.txt\"\n",
        "    read_and_write_file(filename)\n",
        "\n",
        "if __name__ == \"__main__\":\n",
        "    main()\n"
      ],
      "metadata": {
        "colab": {
          "base_uri": "https://localhost:8080/"
        },
        "id": "hFN2T8jVFT9R",
        "outputId": "60cbed36-f448-44c7-c10f-3fda77dbfaa0"
      },
      "execution_count": 48,
      "outputs": [
        {
          "output_type": "stream",
          "name": "stdout",
          "text": [
            "File 'sample.txt' processed successfully.\n"
          ]
        }
      ]
    },
    {
      "cell_type": "code",
      "source": [
        "#Code4:\n",
        "\n",
        "\n",
        "def merge_sort(arr):\n",
        "    if len(arr) <= 1:\n",
        "        return arr\n",
        "\n",
        "    mid = len(arr) // 2\n",
        "    left = arr[:mid]\n",
        "    right = arr[mid:]\n",
        "\n",
        "    merge_sort(left)\n",
        "    merge_sort(right)\n",
        "\n",
        "    i = j = k = 0\n",
        "\n",
        "    while i < len(left) and j < len(right):\n",
        "        if left[i] < right[j]:\n",
        "            arr[k] = left[i]\n",
        "            i += 1\n",
        "        else:\n",
        "            arr[k] = right[j]\n",
        "            j += 1\n",
        "        k += 1\n",
        "\n",
        "    while i < len(left):\n",
        "        arr[k] = left[i]\n",
        "        i += 1\n",
        "        k += 1\n",
        "\n",
        "    while j < len(right):\n",
        "        arr[k] = right[j]\n",
        "        j += 1\n",
        "        k += 1\n",
        "\n",
        "arr = [38, 27, 43, 3, 9, 82, 10]\n",
        "merge_sort(arr)\n",
        "print(f\"The sorted array is: {arr}\")\n"
      ],
      "metadata": {
        "colab": {
          "base_uri": "https://localhost:8080/"
        },
        "id": "03Q9SzAnH9gw",
        "outputId": "0f03c705-2f3a-4413-8d0d-00c57868baf2"
      },
      "execution_count": 49,
      "outputs": [
        {
          "output_type": "stream",
          "name": "stdout",
          "text": [
            "The sorted array is: [3, 9, 10, 27, 38, 43, 82]\n"
          ]
        }
      ]
    }
  ]
}