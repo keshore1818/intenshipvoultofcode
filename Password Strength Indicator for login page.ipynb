{
  "nbformat": 4,
  "nbformat_minor": 0,
  "metadata": {
    "colab": {
      "provenance": []
    },
    "kernelspec": {
      "name": "python3",
      "display_name": "Python 3"
    },
    "language_info": {
      "name": "python"
    }
  },
  "cells": [
    {
      "cell_type": "code",
      "execution_count": 19,
      "metadata": {
        "colab": {
          "base_uri": "https://localhost:8080/"
        },
        "id": "esqEq4tQnL1e",
        "outputId": "75cb2c5f-5e59-49ee-cabd-c44b3671f412"
      },
      "outputs": [
        {
          "output_type": "stream",
          "name": "stdout",
          "text": [
            "Enter your password: 123\n",
            "Password strength: Weak\n"
          ]
        }
      ],
      "source": [
        "def check_password_strength(password):\n",
        "  length = len(password)\n",
        "  has_upper = any(char.isupper() for char in password)\n",
        "  has_lower = any(char.islower() for char in password)\n",
        "  has_digit = any(char.isdigit() for char in password)\n",
        "  has_special = any(not char.isalnum() for char in password)\n",
        "  if length > 8 and has_upper and has_lower and has_digit and has_special:\n",
        "    return \"Strong\"\n",
        "  elif length > 6 and length <= 8 and (has_upper or has_lower) and has_digit:\n",
        "    return \"Medium\"\n",
        "  else:\n",
        "    return \"Weak\"\n",
        "password = input(\"Enter your password: \")\n",
        "strength = check_password_strength(password)\n",
        "print(f\"Password strength: {strength}\")"
      ]
    }
  ]
}